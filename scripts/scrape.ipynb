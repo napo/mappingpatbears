{
 "cells": [
  {
   "cell_type": "code",
   "execution_count": 118,
   "metadata": {},
   "outputs": [],
   "source": [
    "import geopandas as gpd\n",
    "import pandas as pd\n",
    "import fiona\n",
    "import urllib.request\n",
    "import warnings\n",
    "import zipfile\n",
    "from datetime import date\n",
    "from os.path import exists\n",
    "warnings.simplefilter(\"ignore\")"
   ]
  },
  {
   "cell_type": "code",
   "execution_count": 119,
   "metadata": {},
   "outputs": [],
   "source": [
    "# enable KML support which is disabled by default\n",
    "fiona.drvsupport.supported_drivers['kml'] = 'rw'\n",
    "# enable KML support which is disabled by default\n",
    "fiona.drvsupport.supported_drivers['KML'] = 'rw'\n"
   ]
  },
  {
   "cell_type": "code",
   "execution_count": 120,
   "metadata": {},
   "outputs": [],
   "source": [
    "# https://grandicarnivori.provincia.tn.it/Comunicazione/MAPPA-ORSI-RADIOCOLLARATI\n",
    "url_kmz = \"https://www.google.com/maps/d/u/0/kml?mid=1I2AwqVdHwkiRrQeFHHf5A1IoCioVd9TQ&lid=sAvnhrZ7S-0&nl=1\"\n",
    "geojson_grid = \"griglia3km.geojson\"\n",
    "kmz = \"dati_orsi.kmz\"\n",
    "doc = \"doc.kml\"\n",
    "datafile = \"spostamenti_orsi.csv\"\n",
    "today = date.today()\n",
    "today = today.strftime(\"%Y%m%d\")\n"
   ]
  },
  {
   "cell_type": "code",
   "execution_count": 121,
   "metadata": {},
   "outputs": [],
   "source": [
    "def getIdArea(p):\n",
    "    idarea = p.split(\"id: \")[1].split(\"<br>\")[0]\n",
    "    return(idarea)\n"
   ]
  },
  {
   "cell_type": "code",
   "execution_count": 122,
   "metadata": {},
   "outputs": [],
   "source": [
    "df_orsi = pd.read_csv(datafile)"
   ]
  },
  {
   "cell_type": "code",
   "execution_count": 123,
   "metadata": {},
   "outputs": [],
   "source": [
    "if str(df_orsi.day.max()) != today:\n",
    "    out = urllib.request.urlretrieve(url_kmz, kmz)\n",
    "    z = zipfile.ZipFile(kmz)\n",
    "    z.extractall()\n",
    "    lines = []\n",
    "    with open(doc) as f:\n",
    "        lines = f.readlines()\n",
    "    url_kml = \"\"\n",
    "    for line in lines:\n",
    "        if line.find(\"CDATA\") > 0:\n",
    "            url_kml = line.split(\"[\")[2].split(\"]\")[0]\n",
    "    kml = gpd.read_file(url_kml)\n",
    "    kml['idarea'] = kml.Description.apply(getIdArea)\n",
    "    file_exists = exists(geojson_grid)\n",
    "    if file_exists == False:\n",
    "        kml[['geometry', 'idarea']].to_file(geojson_grid, driver='GeoJSON')\n",
    "    orsi = []\n",
    "    for name in kml.Name.unique():\n",
    "        if len(name) > 0:\n",
    "            idarea = kml[kml.Name == name].idarea.values[0]\n",
    "            orso = {'idarea': idarea, 'name': name, 'day': today}\n",
    "            orsi.append(orso)\n",
    "    orsi_df = pd.DataFrame(orsi)\n",
    "    df_orsi = df_orsi.append(orsi_df)\n",
    "    df_orsi.to_csv(datafile, index=False)\n"
   ]
  }
 ],
 "metadata": {
  "kernelspec": {
   "display_name": "Python 3.10.4 64-bit",
   "language": "python",
   "name": "python3"
  },
  "language_info": {
   "codemirror_mode": {
    "name": "ipython",
    "version": 3
   },
   "file_extension": ".py",
   "mimetype": "text/x-python",
   "name": "python",
   "nbconvert_exporter": "python",
   "pygments_lexer": "ipython3",
   "version": "3.10.4"
  },
  "orig_nbformat": 4,
  "vscode": {
   "interpreter": {
    "hash": "31f2aee4e71d21fbe5cf8b01ff0e069b9275f58929596ceb00d14d90e3e16cd6"
   }
  }
 },
 "nbformat": 4,
 "nbformat_minor": 2
}
